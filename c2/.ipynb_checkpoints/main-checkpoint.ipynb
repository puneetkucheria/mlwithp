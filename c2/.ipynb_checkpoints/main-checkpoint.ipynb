{
 "cells": [
  {
   "cell_type": "code",
   "execution_count": 13,
   "metadata": {},
   "outputs": [
    {
     "name": "stdout",
     "output_type": "stream",
     "text": [
      "         0         1         2         3         4         5         6   \\\n",
      "0 -1.156043  0.771950  0.743331 -0.493234 -0.445438 -0.636211 -0.420698   \n",
      "1 -1.176025  0.659695 -1.165317 -0.908967 -1.036928 -0.998331 -1.022227   \n",
      "2  1.186849 -1.342183  0.186642 -0.313660 -0.153345 -0.433639 -0.093318   \n",
      "3 -0.017068  0.313576 -0.290520 -0.362762 -0.396756  0.036041 -0.383436   \n",
      "4  0.492474 -0.659299 -0.926736  1.856193  2.412211  2.724154  2.570975   \n",
      "\n",
      "         7         8         9         10        11  \n",
      "0 -0.614937  0.688068 -0.312055 -0.086499  0.155318  \n",
      "1  1.336459  1.154794  0.217683 -0.033534 -0.836289  \n",
      "2 -0.532046 -0.087217 -0.465315 -0.092405  0.422200  \n",
      "3 -1.045566 -1.388864 -0.079661  0.089736 -0.196453  \n",
      "4 -0.441437  0.410625 -0.357834 -0.004194  0.269928  \n"
     ]
    }
   ],
   "source": [
    "import pandas as pd\n",
    "import numpy as np\n",
    "from c2_def import load_housing_data, create_train_set, data_cleaning\n",
    "\n",
    "housing = load_housing_data()\n",
    "# print(housing.head())\n",
    "\n",
    "housing[\"income_cat\"] =np.ceil(housing[\"median_income\"]/1.5)\n",
    "housing[\"income_cat\"].where(housing[\"income_cat\"]<5,5.0,inplace=True)\n",
    "\n",
    "strain_train_set, strain_test_set = create_train_set(housing)\n",
    "\n",
    "housing=strain_train_set.copy()\n",
    "housing_num = housing.drop('ocean_proximity', axis=1)\n",
    "housing_cat = housing[['ocean_proximity']]\n",
    "# print(pd.DataFrame(housing).head())\n",
    "\n",
    "from sklearn.preprocessing import FunctionTransformer\n",
    "\n",
    "def add_extra_features(X, add_bedrooms_per_room=True):\n",
    "    rooms_per_household = X[:, rooms_ix] / X[:, household_ix]\n",
    "    population_per_household = X[:, population_ix] / X[:, household_ix]\n",
    "    if add_bedrooms_per_room:\n",
    "        bedrooms_per_room = X[:, bedrooms_ix] / X[:, rooms_ix]\n",
    "        return np.c_[X, rooms_per_household, population_per_household,\n",
    "                     bedrooms_per_room]\n",
    "    else:\n",
    "        return np.c_[X, rooms_per_household, population_per_household]\n",
    "\n",
    "# attr_adder = FunctionTransformer(add_extra_features, validate=False, kw_args={\"add_bedrooms_per_room\": False})\n",
    "# housing_extra_attribs = attr_adder.fit_transform(housing.values)\n",
    "\n",
    "## Build pipeline for data cleaning\n",
    "from sklearn.pipeline import Pipeline\n",
    "from sklearn.preprocessing import StandardScaler\n",
    "from sklearn.impute import SimpleImputer\n",
    "\n",
    "num_pipeline = Pipeline([\n",
    "        ('imputer', SimpleImputer(strategy=\"median\")),\n",
    "        ('attribs_adder', FunctionTransformer(add_extra_features, validate=False)),\n",
    "        ('std_scaler', StandardScaler()),\n",
    "    ])\n",
    "\n",
    "housing_num_tr = num_pipeline.fit_transform(housing_num)\n",
    "\n",
    "\n",
    "print(pd.DataFrame(housing_num_tr).head())"
   ]
  },
  {
   "cell_type": "code",
   "execution_count": 11,
   "metadata": {},
   "outputs": [
    {
     "data": {
      "text/plain": [
       "array([[1, 0, 4],\n",
       "       [2, 0, 5],\n",
       "       [3, 0, 6]])"
      ]
     },
     "execution_count": 11,
     "metadata": {},
     "output_type": "execute_result"
    }
   ],
   "source": [
    "np.c_[np.array([1,2,3]),  np.array([0,0,0]),np.array([4,5,6])]"
   ]
  },
  {
   "cell_type": "code",
   "execution_count": null,
   "metadata": {},
   "outputs": [],
   "source": []
  }
 ],
 "metadata": {
  "kernelspec": {
   "display_name": "Python 3",
   "language": "python",
   "name": "python3"
  },
  "language_info": {
   "codemirror_mode": {
    "name": "ipython",
    "version": 3
   },
   "file_extension": ".py",
   "mimetype": "text/x-python",
   "name": "python",
   "nbconvert_exporter": "python",
   "pygments_lexer": "ipython3",
   "version": "3.6.8"
  }
 },
 "nbformat": 4,
 "nbformat_minor": 2
}
